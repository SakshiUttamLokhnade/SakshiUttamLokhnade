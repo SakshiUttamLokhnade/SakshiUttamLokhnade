{
  "nbformat": 4,
  "nbformat_minor": 0,
  "metadata": {
    "colab": {
      "provenance": [],
      "authorship_tag": "ABX9TyNmMfmUUtunXw1MYTdFe7+2",
      "include_colab_link": true
    },
    "kernelspec": {
      "name": "python3",
      "display_name": "Python 3"
    },
    "language_info": {
      "name": "python"
    }
  },
  "cells": [
    {
      "cell_type": "markdown",
      "metadata": {
        "id": "view-in-github",
        "colab_type": "text"
      },
      "source": [
        "<a href=\"https://colab.research.google.com/github/SakshiUttamLokhnade/SakshiUttamLokhnade/blob/main/experiment_no_1.ipynb\" target=\"_parent\"><img src=\"https://colab.research.google.com/assets/colab-badge.svg\" alt=\"Open In Colab\"/></a>"
      ]
    },
    {
      "cell_type": "code",
      "execution_count": null,
      "metadata": {
        "id": "e4WB6E0PXkJY",
        "colab": {
          "base_uri": "https://localhost:8080/"
        },
        "outputId": "d4bd7ecc-323e-4c8b-bf1a-7e8df038ab76"
      },
      "outputs": [
        {
          "output_type": "stream",
          "name": "stdout",
          "text": [
            "Radius of circle1\n",
            "Area of Circle is: 3.14\n"
          ]
        }
      ],
      "source": [
        " r=int(input(\"Radius of circle\"));\n",
        " Area= 3.14*r*r;\n",
        " print(\"Area of Circle is:\",Area);"
      ]
    },
    {
      "cell_type": "code",
      "source": [
        "number=int(input(\"enter the number\"))\n",
        "num_digits=len(str(number))\n",
        "sum_of_cubes=0\n",
        "temp=number\n",
        "while temp>0:\n",
        "  digit=temp%10\n",
        "  sum_of_cubes +=digit**num_digits\n",
        "  temp//=10\n",
        "if number==sum_of_cubes:\n",
        "  print(\"number is armstrong\");\n",
        "else:\n",
        "  print(\"number is not armstrong\");\n"
      ],
      "metadata": {
        "id": "phedTHbwaS4r",
        "colab": {
          "base_uri": "https://localhost:8080/"
        },
        "outputId": "3b5c5250-92a7-4461-86ee-b5d9f7e697ee"
      },
      "execution_count": null,
      "outputs": [
        {
          "output_type": "stream",
          "name": "stdout",
          "text": [
            "enter the number345\n",
            "number is not armstrong\n"
          ]
        }
      ]
    }
  ]
}